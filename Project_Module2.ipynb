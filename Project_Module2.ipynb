{
  "nbformat": 4,
  "nbformat_minor": 0,
  "metadata": {
    "colab": {
      "provenance": [],
      "include_colab_link": true
    },
    "kernelspec": {
      "name": "python3",
      "display_name": "Python 3"
    },
    "language_info": {
      "name": "python"
    }
  },
  "cells": [
    {
      "cell_type": "markdown",
      "metadata": {
        "id": "view-in-github",
        "colab_type": "text"
      },
      "source": [
        "<a href=\"https://colab.research.google.com/github/Kalyani4532/Kalyani_fmml/blob/main/Project_Module2.ipynb\" target=\"_parent\"><img src=\"https://colab.research.google.com/assets/colab-badge.svg\" alt=\"Open In Colab\"/></a>"
      ]
    },
    {
      "cell_type": "markdown",
      "metadata": {
        "id": "LmWIufUKnVK6"
      },
      "source": [
        "# Module 2: Appreciating, Interpreting and Visualizing Data\n",
        "## Project\n",
        "\n",
        "```\n",
        "Coordinator: Abhiroop Talasila\n",
        "```\n",
        "\n",
        "---\n",
        "\n"
      ]
    },
    {
      "cell_type": "markdown",
      "metadata": {
        "id": "fzcKLePrnV3U"
      },
      "source": [
        "From 2020 to 2022, we have been severely affected by the COVID-19 pandemic. And if you would know a little about it, you would have heard about **SARS-CoV-2** (Severe Acute Respiratory Syndrome Coronavirus 2) which is the virus responsible for the COVID-19 disease.\n",
        "\n",
        "A little biology might intrigue you further. This SARS-CoV-2 is a RNA virus and when this virus enters your body, it interacts with the ACE-2 receptor using its Spike protein. When this happens, it gets access to be able to multiply inside your body, ultimately resulting in you getting infected with the COVID-19 disease.\n",
        "\n",
        "Before I explain you the details of the project and what you will be doing, let me first introduce you to what a virus genome is. Every living organism in this world has someting called a Nucleus which produces its characteristic genome sequence. Even your body has a genome and it will be very different from that of lets say a cat. Now, this SARS-CoV-2 virus also has its characteristic genome sequence and it is roughly of the length 29000 bases. A little more Class 9 biology lesson: Each genome is built up with just 4 characters called bases (A, T, G and C).\n",
        "\n",
        "For this project, I will provide you with some SARS-CoV-2 genomes collected from infected people in India and you will use just the Visualization techniques you learnt in the module to analyze the genomes and infer the spread of the COVID-19 disease in the country."
      ]
    },
    {
      "cell_type": "code",
      "source": [],
      "metadata": {
        "id": "uPo0Ye-R_9bQ"
      },
      "execution_count": null,
      "outputs": []
    },
    {
      "cell_type": "markdown",
      "metadata": {
        "id": "xIiHGVQKnY1t"
      },
      "source": [
        "685 genome sequences from India downloaded from GISAID (https://www.gisaid.org/) in early to mid 2020 have been provided to you in the _sequences.fasta_ file and some cleaned metadata regarding these sequences has been given in the _INDIA_685.csv_ file.\n",
        "\n",
        "\n",
        "> Please download the required files from [here](https://drive.google.com/file/d/1dYlfg9j1oq0Wxi7epmHUP2NAgqemUCQc/view?usp=sharing) and upload when asked."
      ]
    },
    {
      "cell_type": "code",
      "metadata": {
        "id": "A2OHuH6nnRD_"
      },
      "source": [
        "from google.colab import files"
      ],
      "execution_count": null,
      "outputs": []
    },
    {
      "cell_type": "code",
      "source": [
        "# Upload Module2_ProjectFiles.zip file here by running this cell\n",
        "\n",
        "uploaded = files.upload()\n",
        "loc_ = list(uploaded.keys())[0]\n",
        "!unzip -q {loc_}"
      ],
      "metadata": {
        "id": "W7D95iElWxS_"
      },
      "execution_count": null,
      "outputs": []
    },
    {
      "cell_type": "code",
      "metadata": {
        "id": "eZqOz_ZDoBBz"
      },
      "source": [
        "!pip3 -q install biopython\n",
        "\n",
        "import pandas as pd\n",
        "import numpy as np\n",
        "from Bio import SeqIO\n",
        "from tqdm.autonotebook import tqdm"
      ],
      "execution_count": null,
      "outputs": []
    },
    {
      "cell_type": "code",
      "metadata": {
        "id": "fb2dcglpoBIs"
      },
      "source": [
        "data = pd.read_csv(\"INDIA_685.csv\")\n",
        "data.tail()"
      ],
      "execution_count": null,
      "outputs": []
    },
    {
      "cell_type": "code",
      "metadata": {
        "id": "CXBttf4aoBLy"
      },
      "source": [
        "fasta_sequences = SeqIO.parse(open(\"sequences.fasta\"),'fasta')\n",
        "\n",
        "counter = 0\n",
        "for fasta in fasta_sequences:\n",
        "    counter +=1\n",
        "\n",
        "print(\"Number of sequences is:\", counter)"
      ],
      "execution_count": null,
      "outputs": []
    },
    {
      "cell_type": "markdown",
      "metadata": {
        "id": "LN32UzxtoJ11"
      },
      "source": [
        "You might have heard in the news that the SARS-CoV-2 is mutating and might have heard the words Double Mutant, Delta Variant and so on. These are nothing but very slight differences in the genomes caused due to Mutations. Some of these mutations end up making the virus deadlier or more infectious.\n",
        "\n",
        "Our goal here is to analyze these genomes and find the ones closer to one another (similar mutations in both) or distant (different profile of mutations). These mutations in turn help us to understand the spread of the Virus and the Demographics of it. Imagine a sequence from Italy has the same set of 10 random mutations as a sequence in India. We can then infer that the source of infection for both the people could be the same. This sort of analysis helps us analyze hotspots and predict if a large outbreak is about to happen.\n",
        "\n",
        "We will try to look at these genome sequences and be able to cluster similar ones together and distant ones furhter away. In this project you will be using two methods to do this:\n",
        "\n",
        "**1. k-mer based methods** <br>\n",
        "**2. Mutation Profile based methods**"
      ]
    },
    {
      "cell_type": "markdown",
      "metadata": {
        "id": "KG-Wrc18oNTz"
      },
      "source": [
        "# kmer based methods\n",
        "\n",
        "In bioinformatics, k-mers are substrings of length k contained within a biological sequence. A sequence of length L will have ```L-k+1 k-mers``` and ```4^k total possible k-mers```. Here we, will be using kmers of size 7. We will represent each genome in this kmer space. Basically a genome of size 30000 bases would have a total of 29994 7-mers.\n",
        "\n",
        "**Now how do you use this information to cluster genome sequences?** <br>\n",
        "We would be looking at the counts of different kmers in the genomes and the ones which have similar counts for different kmers should end up closer than the others.\n",
        "\n",
        "For **k=7**, there are **16384** possible kmers. We will represent each genome sequence as a vector of size 16384 with each position scoring the frequency of the kmer corresponding to that position.\n",
        "\n",
        "**But how do we find out the position in the array for a kmer?**<br>\n",
        "We will be using a hash function to map each kmer to a position in the array (0 to 16383). Whenever that kmer will be observed in a sequence, the value at the corresponding position in the array would be increased by 1.\n",
        "\n",
        "#### Hash function:\n",
        "\n",
        "A: 0 <br>\n",
        "G: 1<br>\n",
        "T: 2<br>\n",
        "C: 3<br>\n",
        "\n",
        "Multiply the character value by ```4^(position of the character in the kmer)``` <br>\n",
        "therefore, TAG would equal = (4^0 * 2) + (4^1 * 0) + (4^2 * 1) = 2 + 0 + 16 = 18\n",
        "\n",
        "**Can you find out the hash value for CATCGAG?**"
      ]
    },
    {
      "cell_type": "code",
      "source": [
        "(4^0*3)+(4^1*0)+(4^2*2)+(4^3*3)+(4^4*1)+(4^5*0)+(4^6*1)=4579"
      ],
      "metadata": {
        "id": "TCnKCv6NAMa4"
      },
      "execution_count": null,
      "outputs": []
    },
    {
      "cell_type": "code",
      "metadata": {
        "id": "sddXsg9QoFIr"
      },
      "source": [
        "def calc_score(examplesequence):\n",
        "\n",
        "    position = 0\n",
        "    score = 0\n",
        "    value = 0\n",
        "    flag = 0\n",
        "\n",
        "    for base in examplesequence:\n",
        "\n",
        "        if(base == \"A\" or base == \"a\"):\n",
        "            value = 0\n",
        "        elif(base == \"G\" or base == \"g\"):\n",
        "            value = 1\n",
        "        elif(base == \"T\" or base == \"t\"):\n",
        "            value = 2\n",
        "        elif(base == \"C\" or base == \"c\"):\n",
        "            value = 3\n",
        "        else:\n",
        "            flag=1\n",
        "\n",
        "        score += (4 ** position)* value\n",
        "        position+=1\n",
        "\n",
        "    return (flag,score)\n",
        "\n",
        "calc_score(\"ATAGTAG\")"
      ],
      "execution_count": null,
      "outputs": []
    },
    {
      "cell_type": "code",
      "metadata": {
        "id": "IfZYG8IxoFLZ"
      },
      "source": [
        "k=7\n",
        "big_matrix = []\n",
        "sequences_name = []\n",
        "\n",
        "fasta_sequences = SeqIO.parse(open(\"sequences.fasta\"),'fasta')\n",
        "\n",
        "for fasta in tqdm(fasta_sequences):\n",
        "\n",
        "    embedding = np.zeros(4**k, dtype=int)\n",
        "    sequence = str(fasta.seq)\n",
        "    sequence_name = fasta.id\n",
        "    sequences_name.append(sequence_name)\n",
        "\n",
        "    for j in range(len(sequence)-k+1):\n",
        "        kmer = sequence[j:j+k]\n",
        "        flag,score = calc_score(kmer)\n",
        "        if(flag!=1):\n",
        "            embedding[score]+=1\n",
        "\n",
        "    embedding = embedding.tolist()\n",
        "    big_matrix.append(embedding)"
      ],
      "execution_count": null,
      "outputs": []
    },
    {
      "cell_type": "code",
      "metadata": {
        "id": "ny9at6TVoFN6"
      },
      "source": [
        "print(\"Number of sequences:\", len(sequences_name))\n",
        "print(\"Number of features for each sequence:\", len(big_matrix[0]))"
      ],
      "execution_count": null,
      "outputs": []
    },
    {
      "cell_type": "markdown",
      "metadata": {
        "id": "clSklu6EofaE"
      },
      "source": [
        "So essentially we reduced a **29000 base sequence** into a **vector of size 16384**. Now we need to further reduce the dimensionality to 2 or 3 dimensions to be able to visualize it.\n",
        "\n",
        "**But how dow we do that??**\n",
        "\n",
        "We can use any of the methods taught to you in the Labs. But here I will explain how to do this using PCA. Then you will use the knowledge from Lab3 on t-SNE to do a similar analysis yourself.\n",
        "\n",
        "### PCA"
      ]
    },
    {
      "cell_type": "code",
      "metadata": {
        "id": "k6XZ2uOtodUe"
      },
      "source": [
        "from sklearn.decomposition import PCA\n",
        "\n",
        "pca = PCA() # create a PCA object\n",
        "pca.fit(big_matrix) # do the math\n",
        "pca_data = pca.transform(big_matrix) # get PCA coordinates for the matrix"
      ],
      "execution_count": null,
      "outputs": []
    },
    {
      "cell_type": "code",
      "metadata": {
        "id": "UHbpD3-oodXA"
      },
      "source": [
        "import matplotlib.pyplot as plt\n",
        "\n",
        "per_var = np.round(pca.explained_variance_ratio_* 100, decimals=1)\n",
        "labels_all = ['PC'+str(x) for x in range(1, len(per_var)+1)]\n",
        "per_var=per_var[:10]\n",
        "labels = [str(x) for x in range(1, len(per_var)+1)]\n",
        "\n",
        "with plt.style.context('dark_background'):\n",
        "    plt.figure(figsize = (15, 9))\n",
        "    plt.xlabel(\"Number of Principal Components\")\n",
        "    plt.ylabel(\"Percentage of variance explained\")\n",
        "    plt.bar(range(1,len(per_var)+1), per_var, tick_label=labels, color = \"aqua\")\n",
        "    plt.plot(range(1,len(per_var)+1), np.cumsum(per_var), color = \"red\")\n",
        "    plt.scatter(range(1,len(per_var)+1), np.cumsum(per_var), color = \"yellow\")"
      ],
      "execution_count": null,
      "outputs": []
    },
    {
      "cell_type": "markdown",
      "metadata": {
        "id": "rHLyNlYaooVO"
      },
      "source": [
        "As you can see, the first principal component alone explains more than 50% of the variance in the dataset. To put this into context, more than **50% variance in 685 genomes of size 29000 bases could be explained with just one dimension**. This shows the amount of structure present in the dataset.\n",
        "\n",
        "We will be now visualizing the first 2 principal components and plot the genomes according to the State they belonged to."
      ]
    },
    {
      "cell_type": "code",
      "metadata": {
        "id": "NunbP88XodZ0"
      },
      "source": [
        "final_df = pd.DataFrame(columns=[\"StrainID\", \"PC1\", \"PC2\", \"PC3\", \"State\"])\n",
        "pca_df = pd.DataFrame(pca_data, index=[*sequences_name], columns = labels_all)\n",
        "\n",
        "for sample in pca_df.index:\n",
        "\n",
        "    dicti = dict()\n",
        "\n",
        "    dicti[\"StrainID\"] = sample\n",
        "    dicti[\"PC1\"] = pca_df.PC1.loc[sample]\n",
        "    dicti[\"PC2\"] = pca_df.PC2.loc[sample]\n",
        "    dicti[\"PC3\"] = pca_df.PC3.loc[sample]\n",
        "    dicti[\"State\"] = data[data[\"StrainID\"]==sample][\"State\"].tolist()[0]\n",
        "\n",
        "    final_df = pd.concat([final_df, pd.DataFrame([dicti])], ignore_index=True)\n",
        "\n",
        "final_df.head()"
      ],
      "execution_count": null,
      "outputs": []
    },
    {
      "cell_type": "code",
      "metadata": {
        "id": "rzUxyucCosjg"
      },
      "source": [
        "import plotly.graph_objs as go\n",
        "import plotly.express as px"
      ],
      "execution_count": null,
      "outputs": []
    },
    {
      "cell_type": "code",
      "metadata": {
        "id": "PIwDqixTosm9"
      },
      "source": [
        "for_x = final_df.PC1.tolist()\n",
        "for_y = final_df.PC2.tolist()\n",
        "for_states = final_df.State.tolist()\n",
        "for_hover = final_df.StrainID.tolist()\n",
        "\n",
        "fig = px.scatter(x=for_x, y=for_y, color=for_states, title=\"Principal Component Axis\",\n",
        "                color_discrete_map={\n",
        "                \"Stateless\": \"grey\",\n",
        "                \"Tamil Nadu\": \"green\",\n",
        "                \"Telangana\": \"red\",\n",
        "                \"Maharashtra\": \"orange\",\n",
        "                \"Gujarat\": \"magenta\",\n",
        "                \"Delhi\": \"purple\",\n",
        "                \"West Bengal\": \"aqua\",\n",
        "                \"Haryana\": \"pink\",\n",
        "                \"Odisha\": \"blue\",\n",
        "                \"Madhya Pradesh\": \"brown\",\n",
        "                \"Karnataka\": \"black\"\n",
        "                })\n",
        "\n",
        "fig.show(renderer = \"colab\")"
      ],
      "execution_count": null,
      "outputs": []
    },
    {
      "cell_type": "markdown",
      "metadata": {
        "id": "7T5rVa1fo8Hr"
      },
      "source": [
        "Even though the plot looks densely clustered, there are still a lot of obvious observations that you should be able to make.\n",
        "\n",
        "### The first one, is that for some reason the Blue dots (Odisha) are scattered away from the big main cluster.\n",
        "\n",
        "![image.png](data:image/png;base64,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)\n",
        "\n",
        "### Also, we can observe a secondary cluster away from the primary cluster. On inspecting, we can see that the sequences forming this cluster are primarily from Telangana (red), Delhi (magenta), and Tamil Nadu (green).\n",
        "\n",
        "![image.png](data:image/png;base64,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)\n",
        "\n",
        "### The third less obvious observation is that within the main cluster, there is a dense cluster of sequences from Gujarat.\n",
        "\n",
        "![image.png](data:image/png;base64,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)"
      ]
    },
    {
      "cell_type": "markdown",
      "metadata": {
        "id": "8Z_H5O0epB43"
      },
      "source": [
        "## t-SNE"
      ]
    },
    {
      "cell_type": "code",
      "metadata": {
        "id": "ZAvrdGToosqU"
      },
      "source": [
        "from sklearn.manifold import TSNE\n",
        "\n",
        "# Use these parameters\n",
        "random_state = 0\n",
        "n_components = 2\n",
        "perplexity = 30\n",
        "n_iter = 10000\n",
        "\n",
        "####### Enter code below #######\n",
        "\n",
        "model = TSNE(n_components=2, random_state=random_state, perplexity=perplexity, n_iter=n_iter)\n",
        "tsne_data = model.fit_transform(np.array(big_matrix))\n",
        "\n",
        "################################"
      ],
      "execution_count": 14,
      "outputs": []
    },
    {
      "cell_type": "code",
      "metadata": {
        "id": "2LlFxnf4pEZG",
        "colab": {
          "base_uri": "https://localhost:8080/",
          "height": 206
        },
        "outputId": "2a8b3c7d-4a01-43f6-f06d-bd203b052238"
      },
      "source": [
        "final_df = pd.DataFrame(columns=[\"StrainID\", \"X\", \"Y\", \"State\"])\n",
        "pca_df = pd.DataFrame(pca_data, index=[*sequences_name], columns = labels_all)\n",
        "\n",
        "i = 0\n",
        "for sample in pca_df.index:\n",
        "\n",
        "    dicti = dict()\n",
        "\n",
        "    dicti[\"StrainID\"] = sample\n",
        "    dicti[\"X\"] = tsne_data[i][0]\n",
        "    dicti[\"Y\"] = tsne_data[i][1]\n",
        "    dicti[\"State\"] = data[data[\"StrainID\"]==sample][\"State\"].tolist()[0]\n",
        "\n",
        "    final_df = pd.concat([final_df, pd.DataFrame([dicti])], ignore_index=True)\n",
        "    i+=1\n",
        "\n",
        "final_df.tail()"
      ],
      "execution_count": 15,
      "outputs": [
        {
          "output_type": "execute_result",
          "data": {
            "text/plain": [
              "                                              StrainID         X          Y  \\\n",
              "680  hCoV-19/India/MaxCov0046_CSIR-IGIB/2020|EPI_IS... -1.670846  12.345421   \n",
              "681  hCoV-19/India/MaxCov0047_CSIR-IGIB/2020|EPI_IS... -1.516235  12.777357   \n",
              "682  hCoV-19/India/MaxCov0048_CSIR-IGIB/2020|EPI_IS... -1.303149  13.702475   \n",
              "683  hCoV-19/India/MaxCov0049_CSIR-IGIB/2020|EPI_IS... -0.786874  14.016081   \n",
              "684  hCoV-19/India/MaxCov0050_CSIR-IGIB/2020|EPI_IS... -2.246538  12.155030   \n",
              "\n",
              "     State  \n",
              "680  Delhi  \n",
              "681  Delhi  \n",
              "682  Delhi  \n",
              "683  Delhi  \n",
              "684  Delhi  "
            ],
            "text/html": [
              "\n",
              "  <div id=\"df-1d1edf50-e1cb-46d7-b553-53b9741ee022\" class=\"colab-df-container\">\n",
              "    <div>\n",
              "<style scoped>\n",
              "    .dataframe tbody tr th:only-of-type {\n",
              "        vertical-align: middle;\n",
              "    }\n",
              "\n",
              "    .dataframe tbody tr th {\n",
              "        vertical-align: top;\n",
              "    }\n",
              "\n",
              "    .dataframe thead th {\n",
              "        text-align: right;\n",
              "    }\n",
              "</style>\n",
              "<table border=\"1\" class=\"dataframe\">\n",
              "  <thead>\n",
              "    <tr style=\"text-align: right;\">\n",
              "      <th></th>\n",
              "      <th>StrainID</th>\n",
              "      <th>X</th>\n",
              "      <th>Y</th>\n",
              "      <th>State</th>\n",
              "    </tr>\n",
              "  </thead>\n",
              "  <tbody>\n",
              "    <tr>\n",
              "      <th>680</th>\n",
              "      <td>hCoV-19/India/MaxCov0046_CSIR-IGIB/2020|EPI_IS...</td>\n",
              "      <td>-1.670846</td>\n",
              "      <td>12.345421</td>\n",
              "      <td>Delhi</td>\n",
              "    </tr>\n",
              "    <tr>\n",
              "      <th>681</th>\n",
              "      <td>hCoV-19/India/MaxCov0047_CSIR-IGIB/2020|EPI_IS...</td>\n",
              "      <td>-1.516235</td>\n",
              "      <td>12.777357</td>\n",
              "      <td>Delhi</td>\n",
              "    </tr>\n",
              "    <tr>\n",
              "      <th>682</th>\n",
              "      <td>hCoV-19/India/MaxCov0048_CSIR-IGIB/2020|EPI_IS...</td>\n",
              "      <td>-1.303149</td>\n",
              "      <td>13.702475</td>\n",
              "      <td>Delhi</td>\n",
              "    </tr>\n",
              "    <tr>\n",
              "      <th>683</th>\n",
              "      <td>hCoV-19/India/MaxCov0049_CSIR-IGIB/2020|EPI_IS...</td>\n",
              "      <td>-0.786874</td>\n",
              "      <td>14.016081</td>\n",
              "      <td>Delhi</td>\n",
              "    </tr>\n",
              "    <tr>\n",
              "      <th>684</th>\n",
              "      <td>hCoV-19/India/MaxCov0050_CSIR-IGIB/2020|EPI_IS...</td>\n",
              "      <td>-2.246538</td>\n",
              "      <td>12.155030</td>\n",
              "      <td>Delhi</td>\n",
              "    </tr>\n",
              "  </tbody>\n",
              "</table>\n",
              "</div>\n",
              "    <div class=\"colab-df-buttons\">\n",
              "\n",
              "  <div class=\"colab-df-container\">\n",
              "    <button class=\"colab-df-convert\" onclick=\"convertToInteractive('df-1d1edf50-e1cb-46d7-b553-53b9741ee022')\"\n",
              "            title=\"Convert this dataframe to an interactive table.\"\n",
              "            style=\"display:none;\">\n",
              "\n",
              "  <svg xmlns=\"http://www.w3.org/2000/svg\" height=\"24px\" viewBox=\"0 -960 960 960\">\n",
              "    <path d=\"M120-120v-720h720v720H120Zm60-500h600v-160H180v160Zm220 220h160v-160H400v160Zm0 220h160v-160H400v160ZM180-400h160v-160H180v160Zm440 0h160v-160H620v160ZM180-180h160v-160H180v160Zm440 0h160v-160H620v160Z\"/>\n",
              "  </svg>\n",
              "    </button>\n",
              "\n",
              "  <style>\n",
              "    .colab-df-container {\n",
              "      display:flex;\n",
              "      gap: 12px;\n",
              "    }\n",
              "\n",
              "    .colab-df-convert {\n",
              "      background-color: #E8F0FE;\n",
              "      border: none;\n",
              "      border-radius: 50%;\n",
              "      cursor: pointer;\n",
              "      display: none;\n",
              "      fill: #1967D2;\n",
              "      height: 32px;\n",
              "      padding: 0 0 0 0;\n",
              "      width: 32px;\n",
              "    }\n",
              "\n",
              "    .colab-df-convert:hover {\n",
              "      background-color: #E2EBFA;\n",
              "      box-shadow: 0px 1px 2px rgba(60, 64, 67, 0.3), 0px 1px 3px 1px rgba(60, 64, 67, 0.15);\n",
              "      fill: #174EA6;\n",
              "    }\n",
              "\n",
              "    .colab-df-buttons div {\n",
              "      margin-bottom: 4px;\n",
              "    }\n",
              "\n",
              "    [theme=dark] .colab-df-convert {\n",
              "      background-color: #3B4455;\n",
              "      fill: #D2E3FC;\n",
              "    }\n",
              "\n",
              "    [theme=dark] .colab-df-convert:hover {\n",
              "      background-color: #434B5C;\n",
              "      box-shadow: 0px 1px 3px 1px rgba(0, 0, 0, 0.15);\n",
              "      filter: drop-shadow(0px 1px 2px rgba(0, 0, 0, 0.3));\n",
              "      fill: #FFFFFF;\n",
              "    }\n",
              "  </style>\n",
              "\n",
              "    <script>\n",
              "      const buttonEl =\n",
              "        document.querySelector('#df-1d1edf50-e1cb-46d7-b553-53b9741ee022 button.colab-df-convert');\n",
              "      buttonEl.style.display =\n",
              "        google.colab.kernel.accessAllowed ? 'block' : 'none';\n",
              "\n",
              "      async function convertToInteractive(key) {\n",
              "        const element = document.querySelector('#df-1d1edf50-e1cb-46d7-b553-53b9741ee022');\n",
              "        const dataTable =\n",
              "          await google.colab.kernel.invokeFunction('convertToInteractive',\n",
              "                                                    [key], {});\n",
              "        if (!dataTable) return;\n",
              "\n",
              "        const docLinkHtml = 'Like what you see? Visit the ' +\n",
              "          '<a target=\"_blank\" href=https://colab.research.google.com/notebooks/data_table.ipynb>data table notebook</a>'\n",
              "          + ' to learn more about interactive tables.';\n",
              "        element.innerHTML = '';\n",
              "        dataTable['output_type'] = 'display_data';\n",
              "        await google.colab.output.renderOutput(dataTable, element);\n",
              "        const docLink = document.createElement('div');\n",
              "        docLink.innerHTML = docLinkHtml;\n",
              "        element.appendChild(docLink);\n",
              "      }\n",
              "    </script>\n",
              "  </div>\n",
              "\n",
              "\n",
              "<div id=\"df-8d27e315-a282-4935-b00a-a75cae298ded\">\n",
              "  <button class=\"colab-df-quickchart\" onclick=\"quickchart('df-8d27e315-a282-4935-b00a-a75cae298ded')\"\n",
              "            title=\"Suggest charts.\"\n",
              "            style=\"display:none;\">\n",
              "\n",
              "<svg xmlns=\"http://www.w3.org/2000/svg\" height=\"24px\"viewBox=\"0 0 24 24\"\n",
              "     width=\"24px\">\n",
              "    <g>\n",
              "        <path d=\"M19 3H5c-1.1 0-2 .9-2 2v14c0 1.1.9 2 2 2h14c1.1 0 2-.9 2-2V5c0-1.1-.9-2-2-2zM9 17H7v-7h2v7zm4 0h-2V7h2v10zm4 0h-2v-4h2v4z\"/>\n",
              "    </g>\n",
              "</svg>\n",
              "  </button>\n",
              "\n",
              "<style>\n",
              "  .colab-df-quickchart {\n",
              "      --bg-color: #E8F0FE;\n",
              "      --fill-color: #1967D2;\n",
              "      --hover-bg-color: #E2EBFA;\n",
              "      --hover-fill-color: #174EA6;\n",
              "      --disabled-fill-color: #AAA;\n",
              "      --disabled-bg-color: #DDD;\n",
              "  }\n",
              "\n",
              "  [theme=dark] .colab-df-quickchart {\n",
              "      --bg-color: #3B4455;\n",
              "      --fill-color: #D2E3FC;\n",
              "      --hover-bg-color: #434B5C;\n",
              "      --hover-fill-color: #FFFFFF;\n",
              "      --disabled-bg-color: #3B4455;\n",
              "      --disabled-fill-color: #666;\n",
              "  }\n",
              "\n",
              "  .colab-df-quickchart {\n",
              "    background-color: var(--bg-color);\n",
              "    border: none;\n",
              "    border-radius: 50%;\n",
              "    cursor: pointer;\n",
              "    display: none;\n",
              "    fill: var(--fill-color);\n",
              "    height: 32px;\n",
              "    padding: 0;\n",
              "    width: 32px;\n",
              "  }\n",
              "\n",
              "  .colab-df-quickchart:hover {\n",
              "    background-color: var(--hover-bg-color);\n",
              "    box-shadow: 0 1px 2px rgba(60, 64, 67, 0.3), 0 1px 3px 1px rgba(60, 64, 67, 0.15);\n",
              "    fill: var(--button-hover-fill-color);\n",
              "  }\n",
              "\n",
              "  .colab-df-quickchart-complete:disabled,\n",
              "  .colab-df-quickchart-complete:disabled:hover {\n",
              "    background-color: var(--disabled-bg-color);\n",
              "    fill: var(--disabled-fill-color);\n",
              "    box-shadow: none;\n",
              "  }\n",
              "\n",
              "  .colab-df-spinner {\n",
              "    border: 2px solid var(--fill-color);\n",
              "    border-color: transparent;\n",
              "    border-bottom-color: var(--fill-color);\n",
              "    animation:\n",
              "      spin 1s steps(1) infinite;\n",
              "  }\n",
              "\n",
              "  @keyframes spin {\n",
              "    0% {\n",
              "      border-color: transparent;\n",
              "      border-bottom-color: var(--fill-color);\n",
              "      border-left-color: var(--fill-color);\n",
              "    }\n",
              "    20% {\n",
              "      border-color: transparent;\n",
              "      border-left-color: var(--fill-color);\n",
              "      border-top-color: var(--fill-color);\n",
              "    }\n",
              "    30% {\n",
              "      border-color: transparent;\n",
              "      border-left-color: var(--fill-color);\n",
              "      border-top-color: var(--fill-color);\n",
              "      border-right-color: var(--fill-color);\n",
              "    }\n",
              "    40% {\n",
              "      border-color: transparent;\n",
              "      border-right-color: var(--fill-color);\n",
              "      border-top-color: var(--fill-color);\n",
              "    }\n",
              "    60% {\n",
              "      border-color: transparent;\n",
              "      border-right-color: var(--fill-color);\n",
              "    }\n",
              "    80% {\n",
              "      border-color: transparent;\n",
              "      border-right-color: var(--fill-color);\n",
              "      border-bottom-color: var(--fill-color);\n",
              "    }\n",
              "    90% {\n",
              "      border-color: transparent;\n",
              "      border-bottom-color: var(--fill-color);\n",
              "    }\n",
              "  }\n",
              "</style>\n",
              "\n",
              "  <script>\n",
              "    async function quickchart(key) {\n",
              "      const quickchartButtonEl =\n",
              "        document.querySelector('#' + key + ' button');\n",
              "      quickchartButtonEl.disabled = true;  // To prevent multiple clicks.\n",
              "      quickchartButtonEl.classList.add('colab-df-spinner');\n",
              "      try {\n",
              "        const charts = await google.colab.kernel.invokeFunction(\n",
              "            'suggestCharts', [key], {});\n",
              "      } catch (error) {\n",
              "        console.error('Error during call to suggestCharts:', error);\n",
              "      }\n",
              "      quickchartButtonEl.classList.remove('colab-df-spinner');\n",
              "      quickchartButtonEl.classList.add('colab-df-quickchart-complete');\n",
              "    }\n",
              "    (() => {\n",
              "      let quickchartButtonEl =\n",
              "        document.querySelector('#df-8d27e315-a282-4935-b00a-a75cae298ded button');\n",
              "      quickchartButtonEl.style.display =\n",
              "        google.colab.kernel.accessAllowed ? 'block' : 'none';\n",
              "    })();\n",
              "  </script>\n",
              "</div>\n",
              "    </div>\n",
              "  </div>\n"
            ]
          },
          "metadata": {},
          "execution_count": 15
        }
      ]
    },
    {
      "cell_type": "code",
      "metadata": {
        "id": "us4Joar_pEcB",
        "colab": {
          "base_uri": "https://localhost:8080/",
          "height": 617
        },
        "outputId": "baa8a308-4449-4626-b5b1-5c1db69ec5d1"
      },
      "source": [
        "for_x = final_df.X.tolist()\n",
        "for_y = final_df.Y.tolist()\n",
        "for_states = final_df.State.tolist()\n",
        "for_hover = final_df.StrainID.tolist()\n",
        "\n",
        "fig = px.scatter(x=for_x, y=for_y, color=for_states, title=\"t-SNE\", height=600, width=1000,\n",
        "                color_discrete_map={\n",
        "                \"Stateless\": \"grey\",\n",
        "                \"Tamil Nadu\": \"green\",\n",
        "                \"Telangana\": \"red\",\n",
        "                \"Maharashtra\": \"orange\",\n",
        "                \"Gujarat\": \"magenta\",\n",
        "                \"Delhi\": \"purple\",\n",
        "                \"West Bengal\": \"aqua\",\n",
        "                \"Haryana\": \"pink\",\n",
        "                \"Odisha\": \"blue\",\n",
        "                \"Madhya Pradesh\": \"brown\",\n",
        "                \"Karnataka\": \"black\"})\n",
        "\n",
        "fig.show(renderer = 'colab')"
      ],
      "execution_count": 16,
      "outputs": [
        {
          "output_type": "display_data",
          "data": {
            "text/html": [
              "<html>\n",
              "<head><meta charset=\"utf-8\" /></head>\n",
              "<body>\n",
              "    <div>            <script src=\"https://cdnjs.cloudflare.com/ajax/libs/mathjax/2.7.5/MathJax.js?config=TeX-AMS-MML_SVG\"></script><script type=\"text/javascript\">if (window.MathJax && window.MathJax.Hub && window.MathJax.Hub.Config) {window.MathJax.Hub.Config({SVG: {font: \"STIX-Web\"}});}</script>                <script type=\"text/javascript\">window.PlotlyConfig = {MathJaxConfig: 'local'};</script>\n",
              "        <script charset=\"utf-8\" src=\"https://cdn.plot.ly/plotly-2.24.1.min.js\"></script>                <div id=\"6d8090f8-6a84-40a6-a541-02d14bc0bbe4\" class=\"plotly-graph-div\" style=\"height:600px; width:1000px;\"></div>            <script type=\"text/javascript\">                                    window.PLOTLYENV=window.PLOTLYENV || {};                                    if (document.getElementById(\"6d8090f8-6a84-40a6-a541-02d14bc0bbe4\")) {                    Plotly.newPlot(                        \"6d8090f8-6a84-40a6-a541-02d14bc0bbe4\",                        [{\"hovertemplate\":\"color=Stateless\\u003cbr\\u003ex=%{x}\\u003cbr\\u003ey=%{y}\\u003cextra\\u003e\\u003c\\u002fextra\\u003e\",\"legendgroup\":\"Stateless\",\"marker\":{\"color\":\"grey\",\"symbol\":\"circle\"},\"mode\":\"markers\",\"name\":\"Stateless\",\"orientation\":\"v\",\"showlegend\":true,\"x\":[14.863170623779297,14.87201976776123,13.998043060302734,15.060664176940918,14.950550079345703,15.046236038208008,19.614931106567383,11.446170806884766,11.001473426818848,11.675594329833984,10.630025863647461,11.902726173400879,11.842329025268555,6.824392318725586,12.551633834838867,13.639471054077148,12.383801460266113,12.607109069824219,-3.4775636196136475,12.198694229125977,14.299503326416016,12.961193084716797,20.173757553100586,20.17417335510254,19.614660263061523,-10.085763931274414,-10.08621883392334],\"xaxis\":\"x\",\"y\":[-6.373110771179199,-6.505147457122803,-7.086414337158203,-7.553549766540527,-7.6071248054504395,-6.942309856414795,-11.317181587219238,17.16280174255371,16.76192283630371,17.012035369873047,18.544649124145508,15.907966613769531,17.029308319091797,79.16291809082031,16.730838775634766,16.75851058959961,16.540958404541016,16.375913619995117,24.810171127319336,17.201801300048828,-7.856481552124023,15.865423202514648,-6.409549713134766,-6.409520149230957,-11.31769847869873,7.131865978240967,7.131816387176514],\"yaxis\":\"y\",\"type\":\"scatter\"},{\"hovertemplate\":\"color=West Bengal\\u003cbr\\u003ex=%{x}\\u003cbr\\u003ey=%{y}\\u003cextra\\u003e\\u003c\\u002fextra\\u003e\",\"legendgroup\":\"West Bengal\",\"marker\":{\"color\":\"aqua\",\"symbol\":\"circle\"},\"mode\":\"markers\",\"name\":\"West Bengal\",\"orientation\":\"v\",\"showlegend\":true,\"x\":[18.620452880859375,18.888351440429688,15.391215324401855,14.528230667114258,18.583133697509766,-6.302142143249512,6.398226261138916,-14.842552185058594,16.17669677734375,13.839934349060059,9.321043014526367,17.3448543548584,16.09339141845703,14.284130096435547,9.182378768920898,16.51691436767578,15.687429428100586,17.871362686157227,22.570476531982422,-13.631223678588867,10.479132652282715,17.391395568847656,17.269428253173828,16.848522186279297,15.86850357055664,22.23541831970215,16.113933563232422,13.564746856689453,14.425275802612305,9.623457908630371,16.242216110229492,22.48814582824707,22.2631778717041,22.569469451904297,22.26344108581543,10.513468742370605,17.264495849609375,10.978158950805664,-16.110437393188477,-4.413623332977295,3.9687986373901367,4.5975022315979,4.208746910095215,5.946946620941162,-8.421648979187012],\"xaxis\":\"x\",\"y\":[-10.856791496276855,-11.575553894042969,-8.581156730651855,-9.841425895690918,-10.8724365234375,27.549686431884766,73.4286117553711,11.683195114135742,-7.868550777435303,-10.17390251159668,2.331716775894165,-6.783518314361572,-7.826028823852539,-4.790790557861328,2.5199265480041504,-7.0327935218811035,-9.377097129821777,-7.810124397277832,-7.556880474090576,27.46254539489746,2.6319587230682373,-8.99131965637207,-13.73022747039795,-7.859872341156006,-10.886574745178223,-3.296924114227295,-11.209946632385254,-4.278606414794922,-4.558385372161865,2.379828691482544,-8.607070922851562,-3.033719301223755,-3.271864414215088,-7.557991981506348,-3.2718658447265625,-5.849134922027588,-13.736947059631348,-6.101612567901611,18.420475006103516,25.835302352905273,71.68250274658203,73.18741607666016,72.38018035888672,73.83250427246094,27.06638526916504],\"yaxis\":\"y\",\"type\":\"scatter\"},{\"hovertemplate\":\"color=Telangana\\u003cbr\\u003ex=%{x}\\u003cbr\\u003ey=%{y}\\u003cextra\\u003e\\u003c\\u002fextra\\u003e\",\"legendgroup\":\"Telangana\",\"marker\":{\"color\":\"red\",\"symbol\":\"circle\"},\"mode\":\"markers\",\"name\":\"Telangana\",\"orientation\":\"v\",\"showlegend\":true,\"x\":[4.560488700866699,5.809286594390869,1.5310912132263184,5.939112186431885,2.1476197242736816,2.2729644775390625,9.566843032836914,1.1703054904937744,3.595789670944214,3.9258744716644287,3.9818525314331055,3.7472379207611084,3.405646800994873,4.252612590789795,2.3750505447387695,4.322486877441406,2.5537102222442627,5.217806339263916,0.8654057383537292,3.3392913341522217,4.791130542755127,-14.748050689697266,-6.8603668212890625,-11.426998138427734,-9.020872116088867,-9.526276588439941,-8.213617324829102,-7.6893696784973145,16.404691696166992,16.788543701171875,17.21210479736328,16.788543701171875,16.611026763916016,11.942634582519531,12.161566734313965,11.897259712219238,23.254100799560547,23.28083038330078,24.091920852661133,24.304401397705078,24.13435935974121,24.08716583251953,24.07051658630371,24.0753116607666,-13.982324600219727,-13.789633750915527,12.505807876586914,12.505807876586914,-10.120067596435547,-9.280050277709961,-13.3206205368042,-13.687972068786621,-12.484716415405273,-10.023697853088379,-10.0858154296875,-13.697798728942871,-13.638111114501953,-8.957934379577637,-13.837738037109375,-8.775369644165039,-12.909775733947754,5.649228096008301,-8.764859199523926,2.75307559967041,4.1701765060424805,-7.584383964538574,3.29132342338562,1.955664873123169,3.244307279586792,5.311049461364746,2.7303214073181152,1.644432544708252,3.664825439453125,2.723220109939575,4.978516101837158,1.8272199630737305,-10.479403495788574,-8.155196189880371,-10.70694637298584,-10.159313201904297,-10.299842834472656,-11.283595085144043,-9.902021408081055,-10.582043647766113,-12.468421936035156,-10.203579902648926,-12.632784843444824,-10.336392402648926,-15.116171836853027,-12.275114059448242,-11.180278778076172,-14.131115913391113,-11.333568572998047,-11.734607696533203,-13.243851661682129,-6.403149604797363,17.454273223876953],\"xaxis\":\"x\",\"y\":[75.85802459716797,75.1275863647461,77.33365631103516,74.91812896728516,77.55815124511719,77.24751281738281,-0.9403258562088013,79.64778900146484,78.62569427490234,80.31072998046875,82.12272644042969,79.84707641601562,77.14741516113281,81.0353775024414,79.31300354003906,79.66365814208984,82.07768249511719,81.04243469238281,80.36710357666016,79.29124450683594,79.07917022705078,26.02877426147461,26.626235961914062,23.891820907592773,21.946311950683594,22.94965362548828,23.117101669311523,24.750349044799805,-26.6558780670166,-26.337871551513672,-25.903154373168945,-26.337871551513672,-26.496728897094727,-19.36470603942871,-18.699581146240234,-18.77583885192871,-21.440515518188477,-21.931974411010742,-21.066059112548828,-20.95975112915039,-21.825288772583008,-22.496782302856445,-22.49494171142578,-22.479326248168945,25.031496047973633,25.393714904785156,-22.856197357177734,-22.856197357177734,21.526906967163086,20.56078338623047,23.1009521484375,25.388442993164062,23.42473602294922,21.417280197143555,23.673215866088867,26.335786819458008,26.144939422607422,20.344545364379883,26.395183563232422,22.826705932617188,20.18620491027832,74.91447448730469,24.0137996673584,79.25135803222656,78.89800262451172,24.32372283935547,79.37679290771484,80.19955444335938,79.62123107910156,79.91730499267578,77.84356689453125,80.99507904052734,78.08595275878906,78.82807922363281,78.12860870361328,79.12020874023438,19.89756202697754,21.41480827331543,21.596837997436523,22.54661750793457,18.741138458251953,22.123605728149414,18.401607513427734,20.534276962280273,25.147729873657227,22.31793975830078,24.891618728637695,23.342790603637695,28.773941040039062,22.636615753173828,21.35987091064453,26.93031120300293,20.250011444091797,18.019691467285156,21.4173526763916,22.82257080078125,-25.64138412475586],\"yaxis\":\"y\",\"type\":\"scatter\"},{\"hovertemplate\":\"color=Jammu and Kashmir\\u003cbr\\u003ex=%{x}\\u003cbr\\u003ey=%{y}\\u003cextra\\u003e\\u003c\\u002fextra\\u003e\",\"legendgroup\":\"Jammu and Kashmir\",\"marker\":{\"color\":\"#EF553B\",\"symbol\":\"circle\"},\"mode\":\"markers\",\"name\":\"Jammu and Kashmir\",\"orientation\":\"v\",\"showlegend\":true,\"x\":[-10.40604019165039],\"xaxis\":\"x\",\"y\":[29.643207550048828],\"yaxis\":\"y\",\"type\":\"scatter\"},{\"hovertemplate\":\"color=Tamil Nadu\\u003cbr\\u003ex=%{x}\\u003cbr\\u003ey=%{y}\\u003cextra\\u003e\\u003c\\u002fextra\\u003e\",\"legendgroup\":\"Tamil Nadu\",\"marker\":{\"color\":\"green\",\"symbol\":\"circle\"},\"mode\":\"markers\",\"name\":\"Tamil Nadu\",\"orientation\":\"v\",\"showlegend\":true,\"x\":[-9.834403991699219,-7.7034912109375,-7.903932094573975,-7.509520530700684,-5.239788055419922,-6.883428573608398,-2.2055912017822266,-8.469995498657227,-9.008543014526367,0.534136176109314,-3.6331264972686768,-2.542710781097412,-6.864428520202637,3.051974296569824,3.077244281768799,2.7169251441955566,6.931163311004639,1.7037806510925293,-4.762763500213623,18.39527702331543,19.130207061767578,18.47008514404297,19.128158569335938,19.13003921508789,-12.132668495178223,18.188804626464844,19.185483932495117,16.84313201904297,16.825847625732422,19.454174041748047,16.82533836364746,16.438199996948242,19.289308547973633,19.185483932495117],\"xaxis\":\"x\",\"y\":[29.489299774169922,26.259185791015625,28.008909225463867,28.465343475341797,26.63646697998047,27.18875503540039,18.35113525390625,18.518962860107422,-3.217186212539673,19.023679733276367,29.33292579650879,26.112018585205078,18.642745971679688,80.61641693115234,80.6598129272461,80.52851104736328,75.02946472167969,72.81854248046875,21.755775451660156,-20.599851608276367,-20.035297393798828,-20.330820083618164,-20.03321075439453,-20.034984588623047,21.19556999206543,-20.059070587158203,-21.66938018798828,-21.40717887878418,-21.5050048828125,-19.628198623657227,-21.5063419342041,-21.1976261138916,-21.878171920776367,-21.66938018798828],\"yaxis\":\"y\",\"type\":\"scatter\"},{\"hovertemplate\":\"color=Uttar Pradesh\\u003cbr\\u003ex=%{x}\\u003cbr\\u003ey=%{y}\\u003cextra\\u003e\\u003c\\u002fextra\\u003e\",\"legendgroup\":\"Uttar Pradesh\",\"marker\":{\"color\":\"#00cc96\",\"symbol\":\"circle\"},\"mode\":\"markers\",\"name\":\"Uttar Pradesh\",\"orientation\":\"v\",\"showlegend\":true,\"x\":[-4.802732944488525,-4.00606107711792,8.284238815307617,-4.932253837585449,-4.710418701171875],\"xaxis\":\"x\",\"y\":[26.764650344848633,27.366846084594727,-5.540868759155273,27.804443359375,9.06693172454834],\"yaxis\":\"y\",\"type\":\"scatter\"},{\"hovertemplate\":\"color=Gujarat\\u003cbr\\u003ex=%{x}\\u003cbr\\u003ey=%{y}\\u003cextra\\u003e\\u003c\\u002fextra\\u003e\",\"legendgroup\":\"Gujarat\",\"marker\":{\"color\":\"magenta\",\"symbol\":\"circle\"},\"mode\":\"markers\",\"name\":\"Gujarat\",\"orientation\":\"v\",\"showlegend\":true,\"x\":[-7.082691669464111,-15.625202178955078,12.161654472351074,-15.51146125793457,-16.172393798828125,-15.702178001403809,-17.510923385620117,7.432116985321045,-17.50946617126465,8.486437797546387,6.953407287597656,-16.962200164794922,-7.804147243499756,-17.767330169677734,-13.250288009643555,7.916318416595459,-7.716561317443848,-14.392132759094238,-14.44198989868164,-10.066094398498535,-10.842188835144043,-12.453307151794434,-11.027844429016113,6.477422714233398,-12.140498161315918,-12.453307151794434,-13.42706298828125,11.375840187072754,-9.805808067321777,-12.1998929977417,9.340404510498047,-10.727274894714355,-0.2051077038049698,9.92367935180664,-0.013924715109169483,-6.283595561981201,9.81818962097168,14.295425415039062,14.302443504333496,-11.394824028015137,6.199994087219238,6.244395732879639,3.719679355621338,2.002974033355713,1.586090326309204,5.913295745849609,3.8626418113708496,-9.902287483215332,3.095304012298584,-15.592111587524414,7.369378089904785,-6.040365695953369,6.458558082580566,-7.422356128692627,5.468343257904053,-7.862374305725098,-18.093788146972656,-18.052589416503906,11.994736671447754,10.563014030456543,-6.707949161529541,9.366316795349121,9.290152549743652,5.104602336883545,-15.012619972229004,-6.937476634979248,-12.717653274536133,-9.416716575622559,-9.558609008789062,8.583752632141113,-12.07717514038086,-12.542523384094238,-11.480591773986816,-7.426493167877197,-7.55015230178833,-7.60144567489624,-13.839510917663574,-14.461915016174316,8.628225326538086,-11.003097534179688,-10.752721786499023,-11.039097785949707,-10.828216552734375,6.988400936126709,-5.539720058441162,-7.3090901374816895,-14.105676651000977,-7.806643009185791,-12.453307151794434,-15.097423553466797,-9.739119529724121,-8.513041496276855,-13.125682830810547,11.871368408203125,11.271413803100586,12.250832557678223,12.431567192077637,10.855902671813965,8.619117736816406,-2.633344888687134,-8.34957218170166,-15.517820358276367,-15.641141891479492,5.928765773773193,6.025613307952881,-5.740053176879883,11.152361869812012,9.345290184020996,10.698626518249512,-13.009660720825195,-7.8683977127075195,13.89871597290039,-13.532845497131348,-17.051300048828125,-17.014245986938477,9.345162391662598,-1.6197893619537354,9.813027381896973,-12.278779983520508,3.536707878112793,9.350239753723145,10.173760414123535,-16.529052734375,-11.677085876464844,-22.050077438354492,-12.203836441040039,6.150825500488281,-7.311681747436523,13.298893928527832,-12.675686836242676,2.1945314407348633,8.349013328552246,-11.257182121276855,-12.770854949951172,-12.849665641784668,-8.496657371520996,8.010589599609375,-8.377281188964844,-6.002845764160156,-7.7715067863464355,-12.734403610229492,7.1023688316345215,-9.0064697265625,2.1929268836975098,-12.141425132751465,7.712668418884277,5.171986103057861,6.988354682922363,-9.533971786499023,8.557608604431152,-8.144338607788086,12.382020950317383,-12.605478286743164,-12.641432762145996,-14.55557632446289,-11.221750259399414,-11.367524147033691,-9.651900291442871,-10.165291786193848,-8.563287734985352,-8.436558723449707,-11.307221412658691,-12.033382415771484,-12.038153648376465,-11.325246810913086,10.68692398071289,11.76558780670166,-7.853734016418457,6.951745510101318,-10.43523120880127,10.759303092956543,10.513195037841797,10.820015907287598,-5.515086650848389,-13.724072456359863,8.628684043884277,-7.906364440917969,10.409430503845215,-8.47319507598877,-9.2903413772583,-9.495379447937012,21.35990333557129,21.354976654052734,-15.54769229888916,6.341922283172607,-4.566898822784424,7.394713401794434,7.557734966278076,6.585169792175293,7.7330708503723145,-6.901123046875,6.536614418029785,8.108298301696777,8.915653228759766,-6.754878520965576,8.108305931091309,-6.902407169342041,7.688320159912109,8.569756507873535,7.234793663024902,-5.854528903961182],\"xaxis\":\"x\",\"y\":[-24.144784927368164,-32.81366729736328,-17.02263641357422,-32.88039016723633,-32.69417190551758,-35.2086067199707,25.704078674316406,-7.6120924949646,25.715784072875977,-7.370944499969482,-9.87155818939209,25.92744255065918,-24.279464721679688,25.779346466064453,-32.3167610168457,-8.530879974365234,-24.940279006958008,-30.63799476623535,-30.42568016052246,-36.86342239379883,-31.471988677978516,-33.801055908203125,-32.031578063964844,-10.988253593444824,-33.25375747680664,-33.801055908203125,-32.98835372924805,-16.40452766418457,-35.32368469238281,-32.56919860839844,-15.623101234436035,-30.652935028076172,-22.461528778076172,-17.249073028564453,-22.34334373474121,-33.345306396484375,-17.268815994262695,-13.855262756347656,-13.863546371459961,-37.69831466674805,75.81486511230469,75.89456939697266,-11.262202262878418,-11.15541934967041,-11.051111221313477,-14.885872840881348,-11.667283058166504,-33.61546325683594,-12.612500190734863,25.141103744506836,1.3607364892959595,-22.084993362426758,4.340776443481445,20.164106369018555,4.834057331085205,20.76798439025879,-34.10074996948242,-34.10123062133789,-13.182823181152344,-12.529455184936523,-23.129249572753906,-13.061694145202637,-11.376823425292969,-10.91561222076416,-36.003578186035156,-31.567346572875977,-35.15359878540039,-24.15319061279297,-25.338598251342773,-12.709578514099121,-34.493431091308594,-31.356992721557617,-27.45733642578125,-21.71221923828125,-32.33643341064453,-32.500946044921875,-34.77509307861328,-36.10293960571289,-11.757716178894043,-35.90584945678711,-33.13436508178711,-33.5319709777832,-33.71096420288086,-14.46929931640625,-19.990686416625977,23.395139694213867,-32.23136901855469,-24.28099822998047,-33.801055908203125,-34.403812408447266,-28.15549659729004,-24.220481872558594,-36.14613723754883,-10.213435173034668,-10.820012092590332,-11.272911071777344,-11.44133472442627,-17.414222717285156,-13.983323097229004,-20.173625946044922,-28.294485092163086,-37.180301666259766,-37.4385986328125,-7.1793928146362305,-7.305100440979004,-26.468971252441406,-17.04326629638672,1.582099199295044,-17.470348358154297,-37.792030334472656,-33.91677474975586,-11.73569107055664,-33.59454345703125,-30.377809524536133,-30.411457061767578,-15.91671085357666,-23.066801071166992,-10.855805397033691,-29.95768928527832,-12.018248558044434,-10.188863754272461,-9.752382278442383,-35.64319610595703,19.354677200317383,16.906930923461914,-21.41579818725586,-12.711109161376953,-33.41549301147461,-8.648921966552734,-33.80166244506836,-15.031867980957031,-10.851900100708008,-34.928462982177734,-36.75303268432617,-35.49331283569336,-26.202585220336914,-11.930154800415039,-32.81505584716797,-24.210081100463867,-24.31836700439453,-34.21791076660156,-11.100399017333984,-23.085025787353516,-15.032869338989258,-35.91774368286133,-12.810263633728027,-12.934840202331543,-14.469645500183105,-22.38863182067871,-11.526416778564453,-23.374052047729492,-9.70736312866211,-22.09561538696289,-22.79615592956543,-35.16389083862305,-24.264175415039062,-23.380834579467773,-19.598661422729492,-19.647640228271484,-19.3967227935791,-19.380876541137695,-23.84898567199707,-24.258377075195312,-24.2509708404541,-23.824573516845703,-11.240574836730957,-10.681513786315918,-32.92751693725586,-14.478337287902832,-33.968502044677734,-13.670884132385254,-12.964818000793457,-13.740269660949707,-19.961746215820312,-34.0635986328125,-11.758089065551758,-24.1385440826416,-18.381258010864258,-25.254465103149414,-31.141237258911133,24.800426483154297,-15.454205513000488,-15.453998565673828,27.014869689941406,-12.434714317321777,-23.486282348632812,3.0983376502990723,2.4573066234588623,3.154862880706787,2.941173553466797,-26.296512603759766,-8.778253555297852,-9.088478088378906,-8.279694557189941,-25.12222671508789,-9.088516235351562,-26.297468185424805,-9.41825008392334,-9.041338920593262,-9.158295631408691,-25.06170654296875],\"yaxis\":\"y\",\"type\":\"scatter\"},{\"hovertemplate\":\"color=Maharashtra\\u003cbr\\u003ex=%{x}\\u003cbr\\u003ey=%{y}\\u003cextra\\u003e\\u003c\\u002fextra\\u003e\",\"legendgroup\":\"Maharashtra\",\"marker\":{\"color\":\"orange\",\"symbol\":\"circle\"},\"mode\":\"markers\",\"name\":\"Maharashtra\",\"orientation\":\"v\",\"showlegend\":true,\"x\":[27.482404708862305,27.25357437133789,27.113996505737305,14.958333015441895,14.959765434265137,29.192142486572266,28.956510543823242,27.496015548706055,6.385310173034668,-10.78781509399414,4.9874749183654785,9.033549308776855,9.040895462036133,-17.20102882385254,-19.503591537475586,-16.48512840270996,-18.180034637451172,-18.079727172851562,-19.240459442138672,-17.23358154296875,-19.7646484375,-13.825112342834473,29.728132247924805,-17.428190231323242,-15.991434097290039,-16.557477951049805,26.898502349853516,24.704059600830078,6.904343128204346,-18.464839935302734,8.294305801391602,30.019189834594727,26.16256332397461,25.81361961364746,8.27063274383545,27.20827865600586,-15.377567291259766,6.481072425842285,6.566737174987793,-10.427132606506348,-2.719238758087158,-5.032662868499756,-2.9134178161621094,-2.3217759132385254,-6.691713333129883,-3.93894624710083,-10.714078903198242,-11.79108715057373,9.260954856872559,8.662620544433594,9.834443092346191,28.54983901977539,27.520286560058594,10.622072219848633,9.39026165008545,9.18567943572998,9.224143981933594,-16.02532386779785,27.52760887145996,-16.670188903808594,-17.162593841552734,28.4796199798584,28.086753845214844,27.557748794555664,11.923410415649414,8.088249206542969,-17.21752166748047,28.528301239013672,8.295360565185547,26.761335372924805,26.148616790771484,28.08271598815918,11.915663719177246,11.920477867126465,4.593765735626221,12.227518081665039,6.96461296081543,9.325568199157715,9.115713119506836,6.073451042175293],\"xaxis\":\"x\",\"y\":[-14.769185066223145,-14.630000114440918,-15.775370597839355,-16.547327041625977,-16.544654846191406,-16.617979049682617,-16.14468765258789,-15.95390796661377,-16.952899932861328,0.32592013478279114,5.164430618286133,5.510550022125244,5.973209381103516,20.215694427490234,20.50300407409668,21.36483383178711,21.94055938720703,19.276731491088867,21.176855087280273,21.792205810546875,21.98298454284668,16.018333435058594,-13.556303977966309,20.226585388183594,22.36629295349121,16.891122817993164,-15.32177734375,-14.714252471923828,-20.29070281982422,23.18373680114746,-20.952421188354492,-14.951130867004395,-16.30352783203125,-15.295289993286133,-19.49481964111328,-16.909870147705078,20.238798141479492,-20.28422737121582,-19.450077056884766,14.133368492126465,27.93324851989746,29.266897201538086,16.529956817626953,16.049541473388672,29.02486801147461,16.19858741760254,20.34432601928711,22.984251022338867,-11.350658416748047,3.040245532989502,-11.928533554077148,-16.176816940307617,-13.867640495300293,4.76270866394043,4.3554768562316895,4.879240036010742,4.807102203369141,21.360332489013672,-14.765501976013184,20.342504501342773,21.872262954711914,-14.728341102600098,-14.8340482711792,-14.657443046569824,12.309976577758789,-19.681835174560547,22.85859489440918,-13.812728881835938,-18.863962173461914,-12.649984359741211,-13.807953834533691,-12.643064498901367,11.78817367553711,12.252951622009277,-17.015243530273438,14.395702362060547,-19.817325592041016,-19.925031661987305,5.106886386871338,-18.734098434448242],\"yaxis\":\"y\",\"type\":\"scatter\"},{\"hovertemplate\":\"color=Madhya Pradesh\\u003cbr\\u003ex=%{x}\\u003cbr\\u003ey=%{y}\\u003cextra\\u003e\\u003c\\u002fextra\\u003e\",\"legendgroup\":\"Madhya Pradesh\",\"marker\":{\"color\":\"brown\",\"symbol\":\"circle\"},\"mode\":\"markers\",\"name\":\"Madhya Pradesh\",\"orientation\":\"v\",\"showlegend\":true,\"x\":[-6.286868095397949,-3.1728837490081787,-3.30302357673645,-4.666679382324219,3.918578863143921,-4.427429676055908,-5.96101188659668,4.849095344543457,1.016958475112915,1.6130226850509644,16.251638412475586,16.696083068847656,10.632719039916992,-4.543881893157959,18.0245304107666,17.234649658203125,18.023639678955078,-4.807354927062988,-10.43445873260498],\"xaxis\":\"x\",\"y\":[5.416386604309082,5.809800624847412,5.970269680023193,7.731311798095703,-8.140043258666992,7.606083869934082,12.674169540405273,-9.479402542114258,20.11525535583496,18.723047256469727,-5.82197380065918,-4.467360973358154,-8.584649085998535,-25.219133377075195,-3.049950361251831,-4.315472602844238,-3.635035991668701,9.431357383728027,27.64765739440918],\"yaxis\":\"y\",\"type\":\"scatter\"},{\"hovertemplate\":\"color=Rajasthan\\u003cbr\\u003ex=%{x}\\u003cbr\\u003ey=%{y}\\u003cextra\\u003e\\u003c\\u002fextra\\u003e\",\"legendgroup\":\"Rajasthan\",\"marker\":{\"color\":\"#ab63fa\",\"symbol\":\"circle\"},\"mode\":\"markers\",\"name\":\"Rajasthan\",\"orientation\":\"v\",\"showlegend\":true,\"x\":[-7.176257610321045,12.57857608795166,-7.7478861808776855,-16.492046356201172,16.972341537475586,-6.038950443267822],\"xaxis\":\"x\",\"y\":[25.460857391357422,-7.4399261474609375,24.061246871948242,19.680194854736328,-9.699336051940918,26.753170013427734],\"yaxis\":\"y\",\"type\":\"scatter\"},{\"hovertemplate\":\"color=Odisha\\u003cbr\\u003ex=%{x}\\u003cbr\\u003ey=%{y}\\u003cextra\\u003e\\u003c\\u002fextra\\u003e\",\"legendgroup\":\"Odisha\",\"marker\":{\"color\":\"blue\",\"symbol\":\"circle\"},\"mode\":\"markers\",\"name\":\"Odisha\",\"orientation\":\"v\",\"showlegend\":true,\"x\":[-13.78502082824707,-13.539874076843262,-14.508886337280273,-13.462600708007812,-12.433967590332031,-16.831092834472656,-16.13743782043457,-12.15999698638916,-16.12289047241211,-10.862174034118652,-12.280049324035645,-17.13641929626465,-11.064787864685059,-14.061487197875977,-16.147581100463867,-13.17606258392334,-11.940500259399414,-15.48845100402832,9.132198333740234,-12.238131523132324,-10.832712173461914,-12.237030982971191,-12.417889595031738,-15.107491493225098,-16.38519859313965,-12.503700256347656,-13.227672576904297,-16.13028335571289,-16.443513870239258,-16.069990158081055,-8.000689506530762,-12.558822631835938,-12.116250991821289,-7.285634994506836,-8.371213912963867,-8.364394187927246,-17.043560028076172,-9.934517860412598,-12.131791114807129,-12.57883358001709,-17.04421615600586,-11.796540260314941,-11.822296142578125,-16.441740036010742,1.0568926334381104,-5.773715972900391],\"xaxis\":\"x\",\"y\":[7.007510185241699,7.259702682495117,6.53448486328125,7.333925247192383,-0.7551800012588501,1.8421146869659424,-0.2917534410953522,-0.9038882255554199,-0.477585107088089,-5.488492012023926,-3.745330572128296,3.329218864440918,-4.173393249511719,-1.2820191383361816,2.0445711612701416,-0.3175369203090668,-0.16241417825222015,1.5020211935043335,3.2064735889434814,0.5071069598197937,-5.5459370613098145,0.4985103905200958,0.2788982391357422,12.556381225585938,0.113658607006073,0.28905045986175537,-3.6618432998657227,5.288778781890869,2.754817247390747,1.9913662672042847,-22.503419876098633,-5.184484481811523,-4.5873122215271,-23.467897415161133,-20.813671112060547,-21.34745216369629,5.07755184173584,-3.847292900085449,-4.333474636077881,-5.193596839904785,4.984652042388916,-3.8068978786468506,-3.8431179523468018,5.180051326751709,18.94525718688965,-23.14783477783203],\"yaxis\":\"y\",\"type\":\"scatter\"},{\"hovertemplate\":\"color=Delhi\\u003cbr\\u003ex=%{x}\\u003cbr\\u003ey=%{y}\\u003cextra\\u003e\\u003c\\u002fextra\\u003e\",\"legendgroup\":\"Delhi\",\"marker\":{\"color\":\"purple\",\"symbol\":\"circle\"},\"mode\":\"markers\",\"name\":\"Delhi\",\"orientation\":\"v\",\"showlegend\":true,\"x\":[-7.633227825164795,-15.507441520690918,24.227476119995117,4.164209365844727,0.2441396415233612,-3.0175442695617676,-1.8905160427093506,-0.37295758724212646,0.6084506511688232,0.48577025532722473,0.628230631351471,0.5023217797279358,1.488547682762146,3.21699595451355,0.9478824138641357,-3.6405324935913086,-0.63052898645401,-0.8521665334701538,-0.36807048320770264,-0.9271734356880188,-3.741161584854126,-10.815522193908691,-15.979601860046387,-9.355391502380371,-1.4024628400802612,-0.31355777382850647,1.4264723062515259,0.5713112354278564,-3.6176376342773438,20.606983184814453,20.04995346069336,17.57929229736328,-14.283792495727539,-4.515533924102783,-11.31391716003418,2.2265050411224365,10.711925506591797,-7.894230365753174,-12.31340217590332,-15.516328811645508,-13.615912437438965,-7.105989933013916,18.223535537719727,17.3402099609375,13.028810501098633,15.451196670532227,15.463811874389648,-7.1371235847473145,-7.218677997589111,-6.7566633224487305,-7.063711166381836,-7.219770908355713,-6.359447002410889,-3.1657769680023193,-9.607403755187988,-12.106722831726074,-11.910298347473145,-5.943716526031494,-5.86098575592041,-4.663054943084717,-9.17468547821045,-8.418571472167969,-5.145723342895508,-14.710710525512695,2.35471773147583,-5.54619836807251,1.0670874118804932,-5.768290042877197,-3.769191026687622,-1.4327399730682373,-2.835700035095215,-1.6708459854125977,-1.5162346363067627,-1.3031491041183472,-0.7868738174438477,-2.246537923812866],\"xaxis\":\"x\",\"y\":[22.254159927368164,14.104353904724121,-12.261554718017578,-14.233590126037598,76.61421966552734,22.40266990661621,76.13948059082031,76.45439910888672,76.40279388427734,75.93116760253906,76.41214752197266,77.3150405883789,75.42243957519531,75.30408477783203,73.65775299072266,13.44112777709961,80.32709503173828,76.3000259399414,75.49576568603516,74.71366882324219,13.449907302856445,26.117347717285156,30.988937377929688,26.124296188354492,77.58373260498047,78.0020751953125,76.1739730834961,75.08198547363281,13.973255157470703,-9.682281494140625,-9.820781707763672,-17.34189796447754,-2.220980405807495,31.436376571655273,-2.5837128162384033,18.08021354675293,0.018885832279920578,31.555519104003906,28.48898696899414,30.202529907226562,28.7149658203125,27.05837059020996,-5.522585391998291,-4.617979049682617,-6.011605262756348,-2.330169439315796,-2.6103932857513428,-39.1641845703125,-38.28293228149414,-37.308414459228516,-37.817710876464844,-38.41836929321289,30.335296630859375,11.08566665649414,30.81656837463379,27.000507354736328,32.2216682434082,11.175603866577148,23.834152221679688,23.466594696044922,28.2725830078125,29.278278350830078,12.948090553283691,27.603797912597656,19.339588165283203,25.1147518157959,18.89887237548828,20.125051498413086,12.929618835449219,13.99764347076416,13.015522003173828,12.345420837402344,12.77735710144043,13.702474594116211,14.016080856323242,12.155030250549316],\"yaxis\":\"y\",\"type\":\"scatter\"},{\"hovertemplate\":\"color=Karnataka\\u003cbr\\u003ex=%{x}\\u003cbr\\u003ey=%{y}\\u003cextra\\u003e\\u003c\\u002fextra\\u003e\",\"legendgroup\":\"Karnataka\",\"marker\":{\"color\":\"black\",\"symbol\":\"circle\"},\"mode\":\"markers\",\"name\":\"Karnataka\",\"orientation\":\"v\",\"showlegend\":true,\"x\":[-0.8501779437065125,-4.794825077056885,0.7698296308517456,0.8760241270065308,-1.5199177265167236,-1.368990421295166,-4.840613842010498,-1.6152325868606567,-1.4189414978027344,-1.2568795680999756,-1.2622511386871338,-5.915314197540283,-1.522467851638794,-1.2311877012252808,-1.2405340671539307,-1.431506633758545,-1.1549606323242188],\"xaxis\":\"x\",\"y\":[0.10192257165908813,-1.382786512374878,-2.2011139392852783,-2.2155301570892334,0.4180981516838074,0.4480636417865753,-1.374213695526123,0.005270466208457947,0.454426109790802,-5.164729118347168,-5.121082782745361,28.388607025146484,-4.211048126220703,-5.322759628295898,-5.233165740966797,-3.926776170730591,-2.726072072982788],\"yaxis\":\"y\",\"type\":\"scatter\"},{\"hovertemplate\":\"color=Haryana\\u003cbr\\u003ex=%{x}\\u003cbr\\u003ey=%{y}\\u003cextra\\u003e\\u003c\\u002fextra\\u003e\",\"legendgroup\":\"Haryana\",\"marker\":{\"color\":\"pink\",\"symbol\":\"circle\"},\"mode\":\"markers\",\"name\":\"Haryana\",\"orientation\":\"v\",\"showlegend\":true,\"x\":[-10.433859825134277,-16.054075241088867,-18.861915588378906,-19.206727981567383,-18.58761215209961,-14.942627906799316,-0.5838678479194641,-19.4352970123291,-16.11372184753418,-14.429464340209961,-14.8556489944458],\"xaxis\":\"x\",\"y\":[14.185070037841797,16.546253204345703,14.772358894348145,14.447428703308105,14.981313705444336,18.42460060119629,11.780447006225586,14.210822105407715,15.074640274047852,18.147720336914062,18.360960006713867],\"yaxis\":\"y\",\"type\":\"scatter\"},{\"hovertemplate\":\"color=Andhra Pradesh\\u003cbr\\u003ex=%{x}\\u003cbr\\u003ey=%{y}\\u003cextra\\u003e\\u003c\\u002fextra\\u003e\",\"legendgroup\":\"Andhra Pradesh\",\"marker\":{\"color\":\"#FFA15A\",\"symbol\":\"circle\"},\"mode\":\"markers\",\"name\":\"Andhra Pradesh\",\"orientation\":\"v\",\"showlegend\":true,\"x\":[-10.099617004394531,-6.375161647796631],\"xaxis\":\"x\",\"y\":[14.652092933654785,25.837108612060547],\"yaxis\":\"y\",\"type\":\"scatter\"},{\"hovertemplate\":\"color=Kargil\\u003cbr\\u003ex=%{x}\\u003cbr\\u003ey=%{y}\\u003cextra\\u003e\\u003c\\u002fextra\\u003e\",\"legendgroup\":\"Kargil\",\"marker\":{\"color\":\"#19d3f3\",\"symbol\":\"circle\"},\"mode\":\"markers\",\"name\":\"Kargil\",\"orientation\":\"v\",\"showlegend\":true,\"x\":[-2.17696213722229],\"xaxis\":\"x\",\"y\":[18.43722152709961],\"yaxis\":\"y\",\"type\":\"scatter\"},{\"hovertemplate\":\"color=Bihar\\u003cbr\\u003ex=%{x}\\u003cbr\\u003ey=%{y}\\u003cextra\\u003e\\u003c\\u002fextra\\u003e\",\"legendgroup\":\"Bihar\",\"marker\":{\"color\":\"#FF6692\",\"symbol\":\"circle\"},\"mode\":\"markers\",\"name\":\"Bihar\",\"orientation\":\"v\",\"showlegend\":true,\"x\":[-7.706094741821289,0.5489736199378967,-3.931889772415161,-11.915705680847168,-5.039479732513428,-5.841839790344238],\"xaxis\":\"x\",\"y\":[29.559518814086914,16.818727493286133,12.05889892578125,32.2142219543457,12.930204391479492,14.068720817565918],\"yaxis\":\"y\",\"type\":\"scatter\"},{\"hovertemplate\":\"color=Kerala\\u003cbr\\u003ex=%{x}\\u003cbr\\u003ey=%{y}\\u003cextra\\u003e\\u003c\\u002fextra\\u003e\",\"legendgroup\":\"Kerala\",\"marker\":{\"color\":\"#B6E880\",\"symbol\":\"circle\"},\"mode\":\"markers\",\"name\":\"Kerala\",\"orientation\":\"v\",\"showlegend\":true,\"x\":[9.705879211425781,9.497620582580566],\"xaxis\":\"x\",\"y\":[-1.6666463613510132,0.43594253063201904],\"yaxis\":\"y\",\"type\":\"scatter\"},{\"hovertemplate\":\"color=Punjab\\u003cbr\\u003ex=%{x}\\u003cbr\\u003ey=%{y}\\u003cextra\\u003e\\u003c\\u002fextra\\u003e\",\"legendgroup\":\"Punjab\",\"marker\":{\"color\":\"#FF97FF\",\"symbol\":\"circle\"},\"mode\":\"markers\",\"name\":\"Punjab\",\"orientation\":\"v\",\"showlegend\":true,\"x\":[19.24711799621582],\"xaxis\":\"x\",\"y\":[-8.361504554748535],\"yaxis\":\"y\",\"type\":\"scatter\"},{\"hovertemplate\":\"color=Ladakh\\u003cbr\\u003ex=%{x}\\u003cbr\\u003ey=%{y}\\u003cextra\\u003e\\u003c\\u002fextra\\u003e\",\"legendgroup\":\"Ladakh\",\"marker\":{\"color\":\"#FECB52\",\"symbol\":\"circle\"},\"mode\":\"markers\",\"name\":\"Ladakh\",\"orientation\":\"v\",\"showlegend\":true,\"x\":[13.114423751831055,14.190439224243164,13.428966522216797,12.75544548034668,13.396909713745117,8.151280403137207],\"xaxis\":\"x\",\"y\":[18.154211044311523,18.70530891418457,18.360048294067383,19.019853591918945,18.314523696899414,17.778629302978516],\"yaxis\":\"y\",\"type\":\"scatter\"},{\"hovertemplate\":\"color=Assam\\u003cbr\\u003ex=%{x}\\u003cbr\\u003ey=%{y}\\u003cextra\\u003e\\u003c\\u002fextra\\u003e\",\"legendgroup\":\"Assam\",\"marker\":{\"color\":\"#636efa\",\"symbol\":\"circle\"},\"mode\":\"markers\",\"name\":\"Assam\",\"orientation\":\"v\",\"showlegend\":true,\"x\":[-6.330775737762451,-11.958507537841797],\"xaxis\":\"x\",\"y\":[21.491920471191406,29.742399215698242],\"yaxis\":\"y\",\"type\":\"scatter\"}],                        {\"template\":{\"data\":{\"histogram2dcontour\":[{\"type\":\"histogram2dcontour\",\"colorbar\":{\"outlinewidth\":0,\"ticks\":\"\"},\"colorscale\":[[0.0,\"#0d0887\"],[0.1111111111111111,\"#46039f\"],[0.2222222222222222,\"#7201a8\"],[0.3333333333333333,\"#9c179e\"],[0.4444444444444444,\"#bd3786\"],[0.5555555555555556,\"#d8576b\"],[0.6666666666666666,\"#ed7953\"],[0.7777777777777778,\"#fb9f3a\"],[0.8888888888888888,\"#fdca26\"],[1.0,\"#f0f921\"]]}],\"choropleth\":[{\"type\":\"choropleth\",\"colorbar\":{\"outlinewidth\":0,\"ticks\":\"\"}}],\"histogram2d\":[{\"type\":\"histogram2d\",\"colorbar\":{\"outlinewidth\":0,\"ticks\":\"\"},\"colorscale\":[[0.0,\"#0d0887\"],[0.1111111111111111,\"#46039f\"],[0.2222222222222222,\"#7201a8\"],[0.3333333333333333,\"#9c179e\"],[0.4444444444444444,\"#bd3786\"],[0.5555555555555556,\"#d8576b\"],[0.6666666666666666,\"#ed7953\"],[0.7777777777777778,\"#fb9f3a\"],[0.8888888888888888,\"#fdca26\"],[1.0,\"#f0f921\"]]}],\"heatmap\":[{\"type\":\"heatmap\",\"colorbar\":{\"outlinewidth\":0,\"ticks\":\"\"},\"colorscale\":[[0.0,\"#0d0887\"],[0.1111111111111111,\"#46039f\"],[0.2222222222222222,\"#7201a8\"],[0.3333333333333333,\"#9c179e\"],[0.4444444444444444,\"#bd3786\"],[0.5555555555555556,\"#d8576b\"],[0.6666666666666666,\"#ed7953\"],[0.7777777777777778,\"#fb9f3a\"],[0.8888888888888888,\"#fdca26\"],[1.0,\"#f0f921\"]]}],\"heatmapgl\":[{\"type\":\"heatmapgl\",\"colorbar\":{\"outlinewidth\":0,\"ticks\":\"\"},\"colorscale\":[[0.0,\"#0d0887\"],[0.1111111111111111,\"#46039f\"],[0.2222222222222222,\"#7201a8\"],[0.3333333333333333,\"#9c179e\"],[0.4444444444444444,\"#bd3786\"],[0.5555555555555556,\"#d8576b\"],[0.6666666666666666,\"#ed7953\"],[0.7777777777777778,\"#fb9f3a\"],[0.8888888888888888,\"#fdca26\"],[1.0,\"#f0f921\"]]}],\"contourcarpet\":[{\"type\":\"contourcarpet\",\"colorbar\":{\"outlinewidth\":0,\"ticks\":\"\"}}],\"contour\":[{\"type\":\"contour\",\"colorbar\":{\"outlinewidth\":0,\"ticks\":\"\"},\"colorscale\":[[0.0,\"#0d0887\"],[0.1111111111111111,\"#46039f\"],[0.2222222222222222,\"#7201a8\"],[0.3333333333333333,\"#9c179e\"],[0.4444444444444444,\"#bd3786\"],[0.5555555555555556,\"#d8576b\"],[0.6666666666666666,\"#ed7953\"],[0.7777777777777778,\"#fb9f3a\"],[0.8888888888888888,\"#fdca26\"],[1.0,\"#f0f921\"]]}],\"surface\":[{\"type\":\"surface\",\"colorbar\":{\"outlinewidth\":0,\"ticks\":\"\"},\"colorscale\":[[0.0,\"#0d0887\"],[0.1111111111111111,\"#46039f\"],[0.2222222222222222,\"#7201a8\"],[0.3333333333333333,\"#9c179e\"],[0.4444444444444444,\"#bd3786\"],[0.5555555555555556,\"#d8576b\"],[0.6666666666666666,\"#ed7953\"],[0.7777777777777778,\"#fb9f3a\"],[0.8888888888888888,\"#fdca26\"],[1.0,\"#f0f921\"]]}],\"mesh3d\":[{\"type\":\"mesh3d\",\"colorbar\":{\"outlinewidth\":0,\"ticks\":\"\"}}],\"scatter\":[{\"fillpattern\":{\"fillmode\":\"overlay\",\"size\":10,\"solidity\":0.2},\"type\":\"scatter\"}],\"parcoords\":[{\"type\":\"parcoords\",\"line\":{\"colorbar\":{\"outlinewidth\":0,\"ticks\":\"\"}}}],\"scatterpolargl\":[{\"type\":\"scatterpolargl\",\"marker\":{\"colorbar\":{\"outlinewidth\":0,\"ticks\":\"\"}}}],\"bar\":[{\"error_x\":{\"color\":\"#2a3f5f\"},\"error_y\":{\"color\":\"#2a3f5f\"},\"marker\":{\"line\":{\"color\":\"#E5ECF6\",\"width\":0.5},\"pattern\":{\"fillmode\":\"overlay\",\"size\":10,\"solidity\":0.2}},\"type\":\"bar\"}],\"scattergeo\":[{\"type\":\"scattergeo\",\"marker\":{\"colorbar\":{\"outlinewidth\":0,\"ticks\":\"\"}}}],\"scatterpolar\":[{\"type\":\"scatterpolar\",\"marker\":{\"colorbar\":{\"outlinewidth\":0,\"ticks\":\"\"}}}],\"histogram\":[{\"marker\":{\"pattern\":{\"fillmode\":\"overlay\",\"size\":10,\"solidity\":0.2}},\"type\":\"histogram\"}],\"scattergl\":[{\"type\":\"scattergl\",\"marker\":{\"colorbar\":{\"outlinewidth\":0,\"ticks\":\"\"}}}],\"scatter3d\":[{\"type\":\"scatter3d\",\"line\":{\"colorbar\":{\"outlinewidth\":0,\"ticks\":\"\"}},\"marker\":{\"colorbar\":{\"outlinewidth\":0,\"ticks\":\"\"}}}],\"scattermapbox\":[{\"type\":\"scattermapbox\",\"marker\":{\"colorbar\":{\"outlinewidth\":0,\"ticks\":\"\"}}}],\"scatterternary\":[{\"type\":\"scatterternary\",\"marker\":{\"colorbar\":{\"outlinewidth\":0,\"ticks\":\"\"}}}],\"scattercarpet\":[{\"type\":\"scattercarpet\",\"marker\":{\"colorbar\":{\"outlinewidth\":0,\"ticks\":\"\"}}}],\"carpet\":[{\"aaxis\":{\"endlinecolor\":\"#2a3f5f\",\"gridcolor\":\"white\",\"linecolor\":\"white\",\"minorgridcolor\":\"white\",\"startlinecolor\":\"#2a3f5f\"},\"baxis\":{\"endlinecolor\":\"#2a3f5f\",\"gridcolor\":\"white\",\"linecolor\":\"white\",\"minorgridcolor\":\"white\",\"startlinecolor\":\"#2a3f5f\"},\"type\":\"carpet\"}],\"table\":[{\"cells\":{\"fill\":{\"color\":\"#EBF0F8\"},\"line\":{\"color\":\"white\"}},\"header\":{\"fill\":{\"color\":\"#C8D4E3\"},\"line\":{\"color\":\"white\"}},\"type\":\"table\"}],\"barpolar\":[{\"marker\":{\"line\":{\"color\":\"#E5ECF6\",\"width\":0.5},\"pattern\":{\"fillmode\":\"overlay\",\"size\":10,\"solidity\":0.2}},\"type\":\"barpolar\"}],\"pie\":[{\"automargin\":true,\"type\":\"pie\"}]},\"layout\":{\"autotypenumbers\":\"strict\",\"colorway\":[\"#636efa\",\"#EF553B\",\"#00cc96\",\"#ab63fa\",\"#FFA15A\",\"#19d3f3\",\"#FF6692\",\"#B6E880\",\"#FF97FF\",\"#FECB52\"],\"font\":{\"color\":\"#2a3f5f\"},\"hovermode\":\"closest\",\"hoverlabel\":{\"align\":\"left\"},\"paper_bgcolor\":\"white\",\"plot_bgcolor\":\"#E5ECF6\",\"polar\":{\"bgcolor\":\"#E5ECF6\",\"angularaxis\":{\"gridcolor\":\"white\",\"linecolor\":\"white\",\"ticks\":\"\"},\"radialaxis\":{\"gridcolor\":\"white\",\"linecolor\":\"white\",\"ticks\":\"\"}},\"ternary\":{\"bgcolor\":\"#E5ECF6\",\"aaxis\":{\"gridcolor\":\"white\",\"linecolor\":\"white\",\"ticks\":\"\"},\"baxis\":{\"gridcolor\":\"white\",\"linecolor\":\"white\",\"ticks\":\"\"},\"caxis\":{\"gridcolor\":\"white\",\"linecolor\":\"white\",\"ticks\":\"\"}},\"coloraxis\":{\"colorbar\":{\"outlinewidth\":0,\"ticks\":\"\"}},\"colorscale\":{\"sequential\":[[0.0,\"#0d0887\"],[0.1111111111111111,\"#46039f\"],[0.2222222222222222,\"#7201a8\"],[0.3333333333333333,\"#9c179e\"],[0.4444444444444444,\"#bd3786\"],[0.5555555555555556,\"#d8576b\"],[0.6666666666666666,\"#ed7953\"],[0.7777777777777778,\"#fb9f3a\"],[0.8888888888888888,\"#fdca26\"],[1.0,\"#f0f921\"]],\"sequentialminus\":[[0.0,\"#0d0887\"],[0.1111111111111111,\"#46039f\"],[0.2222222222222222,\"#7201a8\"],[0.3333333333333333,\"#9c179e\"],[0.4444444444444444,\"#bd3786\"],[0.5555555555555556,\"#d8576b\"],[0.6666666666666666,\"#ed7953\"],[0.7777777777777778,\"#fb9f3a\"],[0.8888888888888888,\"#fdca26\"],[1.0,\"#f0f921\"]],\"diverging\":[[0,\"#8e0152\"],[0.1,\"#c51b7d\"],[0.2,\"#de77ae\"],[0.3,\"#f1b6da\"],[0.4,\"#fde0ef\"],[0.5,\"#f7f7f7\"],[0.6,\"#e6f5d0\"],[0.7,\"#b8e186\"],[0.8,\"#7fbc41\"],[0.9,\"#4d9221\"],[1,\"#276419\"]]},\"xaxis\":{\"gridcolor\":\"white\",\"linecolor\":\"white\",\"ticks\":\"\",\"title\":{\"standoff\":15},\"zerolinecolor\":\"white\",\"automargin\":true,\"zerolinewidth\":2},\"yaxis\":{\"gridcolor\":\"white\",\"linecolor\":\"white\",\"ticks\":\"\",\"title\":{\"standoff\":15},\"zerolinecolor\":\"white\",\"automargin\":true,\"zerolinewidth\":2},\"scene\":{\"xaxis\":{\"backgroundcolor\":\"#E5ECF6\",\"gridcolor\":\"white\",\"linecolor\":\"white\",\"showbackground\":true,\"ticks\":\"\",\"zerolinecolor\":\"white\",\"gridwidth\":2},\"yaxis\":{\"backgroundcolor\":\"#E5ECF6\",\"gridcolor\":\"white\",\"linecolor\":\"white\",\"showbackground\":true,\"ticks\":\"\",\"zerolinecolor\":\"white\",\"gridwidth\":2},\"zaxis\":{\"backgroundcolor\":\"#E5ECF6\",\"gridcolor\":\"white\",\"linecolor\":\"white\",\"showbackground\":true,\"ticks\":\"\",\"zerolinecolor\":\"white\",\"gridwidth\":2}},\"shapedefaults\":{\"line\":{\"color\":\"#2a3f5f\"}},\"annotationdefaults\":{\"arrowcolor\":\"#2a3f5f\",\"arrowhead\":0,\"arrowwidth\":1},\"geo\":{\"bgcolor\":\"white\",\"landcolor\":\"#E5ECF6\",\"subunitcolor\":\"white\",\"showland\":true,\"showlakes\":true,\"lakecolor\":\"white\"},\"title\":{\"x\":0.05},\"mapbox\":{\"style\":\"light\"}}},\"xaxis\":{\"anchor\":\"y\",\"domain\":[0.0,1.0],\"title\":{\"text\":\"x\"}},\"yaxis\":{\"anchor\":\"x\",\"domain\":[0.0,1.0],\"title\":{\"text\":\"y\"}},\"legend\":{\"title\":{\"text\":\"color\"},\"tracegroupgap\":0},\"title\":{\"text\":\"t-SNE\"},\"height\":600,\"width\":1000},                        {\"responsive\": true}                    ).then(function(){\n",
              "                            \n",
              "var gd = document.getElementById('6d8090f8-6a84-40a6-a541-02d14bc0bbe4');\n",
              "var x = new MutationObserver(function (mutations, observer) {{\n",
              "        var display = window.getComputedStyle(gd).display;\n",
              "        if (!display || display === 'none') {{\n",
              "            console.log([gd, 'removed!']);\n",
              "            Plotly.purge(gd);\n",
              "            observer.disconnect();\n",
              "        }}\n",
              "}});\n",
              "\n",
              "// Listen for the removal of the full notebook cells\n",
              "var notebookContainer = gd.closest('#notebook-container');\n",
              "if (notebookContainer) {{\n",
              "    x.observe(notebookContainer, {childList: true});\n",
              "}}\n",
              "\n",
              "// Listen for the clearing of the current output cell\n",
              "var outputEl = gd.closest('.output');\n",
              "if (outputEl) {{\n",
              "    x.observe(outputEl, {childList: true});\n",
              "}}\n",
              "\n",
              "                        })                };                            </script>        </div>\n",
              "</body>\n",
              "</html>"
            ]
          },
          "metadata": {}
        }
      ]
    },
    {
      "cell_type": "markdown",
      "source": [
        "Does making the 3 observations become easier in this plot? Can you make any other new observations from this plot?\n",
        "\n",
        "Make sure you tweak the parameters to find out if a certain different setting is allowing you to get a more interpretable plot."
      ],
      "metadata": {
        "id": "NPHvlw8NaYl5"
      }
    },
    {
      "cell_type": "markdown",
      "metadata": {
        "id": "ECFR423VpcVd"
      },
      "source": [
        "# Mutation Profile based methods\n",
        "\n",
        "If you would have noticed, there is a column called Nuc_muts (Nucleotide mutations) in the INDIA_685.csv file. These are the specific mutations for each sequence which I have precomputed for you using the first SARS-CoV-2 sequence from Wuhan, China (https://www.ncbi.nlm.nih.gov/nuccore/NC_045512.2?report=fasta) as the reference.\n",
        "\n",
        "A mutation C453T in a sequence means that the original reference sequence from Wuhan had a C at position 453 whereas the sequence has a T at that position.\n",
        "\n",
        "Now instead of using kmers for sequences, this time we will use the **presence/absence of all mutations** found in our dataset to represent the genomes."
      ]
    },
    {
      "cell_type": "code",
      "metadata": {
        "colab": {
          "base_uri": "https://localhost:8080/"
        },
        "id": "zrbWFyL2pEed",
        "outputId": "ab252125-f782-49be-ecb2-28b557864949"
      },
      "source": [
        "## First we need to get the list of all unique mutations observed in our dataset.\n",
        "\n",
        "mutations = []\n",
        "for i in range(len(data)):\n",
        "\n",
        "    sample_muts = data[\"Nuc_muts\"][i][1:][:-1].split(\",\")\n",
        "\n",
        "    for j in sample_muts:\n",
        "        mut = j.strip()[1:][:-1]\n",
        "        if(len(mut)>=2):\n",
        "            if(mut not in mutations):\n",
        "                mutations.append(mut)\n",
        "\n",
        "print(len(mutations))"
      ],
      "execution_count": 17,
      "outputs": [
        {
          "output_type": "stream",
          "name": "stdout",
          "text": [
            "1279\n"
          ]
        }
      ]
    },
    {
      "cell_type": "markdown",
      "metadata": {
        "id": "wHS8f3jCphLc"
      },
      "source": [
        "So there are 1279 unique mutations in our sequences. We can now represent each genome as a ```vector of size 1279 where each position indicates the presence (1) or absence (0) of a specific mutation```."
      ]
    },
    {
      "cell_type": "code",
      "metadata": {
        "id": "uR3nnmgMpEhu"
      },
      "source": [
        "samplelist = data[\"StrainID\"].tolist()\n",
        "df = pd.DataFrame(columns = [*samplelist])\n",
        "df = df.replace(np.nan,0)\n",
        "\n",
        "for mutation in mutations:\n",
        "\n",
        "    dicti = dict(zip(samplelist, np.zeros(len(samplelist), dtype=int)))\n",
        "\n",
        "    for i in range(len(data)):\n",
        "        flag=0\n",
        "        strainid = data[\"StrainID\"][i]\n",
        "        sample_muts = data[\"Nuc_muts\"][i][1:][:-1].split(\",\")\n",
        "\n",
        "        for j in sample_muts:\n",
        "            mut = j.strip()[1:][:-1]\n",
        "            if(len(mut)>=2):\n",
        "                if(mut == mutation):\n",
        "                    flag = 1\n",
        "                    break\n",
        "\n",
        "        dicti[strainid]=flag\n",
        "\n",
        "    df = pd.concat([df, pd.DataFrame([dicti])], ignore_index=True)\n",
        "\n",
        "df = df.T\n",
        "\n",
        "df.tail()"
      ],
      "execution_count": null,
      "outputs": []
    },
    {
      "cell_type": "markdown",
      "metadata": {
        "id": "V9CIPpHvpmc2"
      },
      "source": [
        "## PCA\n",
        "\n",
        "Performing PCA on this dataframe, we want to reduce the dimensionality of our genome sequences from 1279 to 2."
      ]
    },
    {
      "cell_type": "code",
      "metadata": {
        "id": "64svk1wEpjYC"
      },
      "source": [
        "pca = PCA()\n",
        "pca.fit(df)\n",
        "pca_data = pca.transform(df)"
      ],
      "execution_count": null,
      "outputs": []
    },
    {
      "cell_type": "code",
      "metadata": {
        "id": "wTEZQIDGpjbB"
      },
      "source": [
        "per_var = np.round(pca.explained_variance_ratio_* 100, decimals=1)\n",
        "labels_all = ['PC'+str(x) for x in range(1, len(per_var)+1)]\n",
        "per_var=per_var[:10]\n",
        "labels = [str(x) for x in range(1, len(per_var)+1)]\n",
        "\n",
        "with plt.style.context('dark_background'):\n",
        "    plt.figure(figsize = (15, 9))\n",
        "    plt.xlabel(\"Number of Principal Components\")\n",
        "    plt.ylabel(\"Percentage of variance explained\")\n",
        "    plt.bar(range(1,len(per_var)+1), per_var, tick_label=labels, color = \"aqua\")\n",
        "    plt.plot(range(1,len(per_var)+1), np.cumsum(per_var), color = \"red\")\n",
        "    plt.scatter(range(1,len(per_var)+1), np.cumsum(per_var), color = \"yellow\")"
      ],
      "execution_count": null,
      "outputs": []
    },
    {
      "cell_type": "markdown",
      "metadata": {
        "id": "W_w644b-ptLV"
      },
      "source": [
        "The first principal component should be able to capture close to 30% of the variance in the dataset."
      ]
    },
    {
      "cell_type": "code",
      "metadata": {
        "id": "edpEBZXSpjd2"
      },
      "source": [
        "final_df = pd.DataFrame(columns=[\"StrainID\", \"PC1\", \"PC2\", \"State\"])\n",
        "pca_df = pd.DataFrame(pca_data, index=[*samplelist], columns = labels_all)\n",
        "\n",
        "for sample in pca_df.index:\n",
        "\n",
        "    dicti = dict()\n",
        "\n",
        "    dicti[\"StrainID\"] = sample\n",
        "    dicti[\"PC1\"] = pca_df.PC1.loc[sample]\n",
        "    dicti[\"PC2\"] = pca_df.PC2.loc[sample]\n",
        "    dicti[\"State\"] = data[data[\"StrainID\"]==sample][\"State\"].tolist()[0]\n",
        "\n",
        "    final_df = pd.concat([final_df, pd.DataFrame([dicti])], ignore_index=True)\n",
        "\n",
        "final_df.tail()"
      ],
      "execution_count": null,
      "outputs": []
    },
    {
      "cell_type": "code",
      "metadata": {
        "id": "1TTC9hCppjgp"
      },
      "source": [
        "for_x = final_df.PC1.tolist()\n",
        "for_y = final_df.PC2.tolist()\n",
        "for_states = final_df.State.tolist()\n",
        "for_hover = final_df.StrainID.tolist()\n",
        "\n",
        "fig = px.scatter(x=for_x, y=for_y, color=for_states, height=600, width=1200,\n",
        "                 title=\"Principal Component Axis\",\n",
        "                color_discrete_map={\n",
        "                \"Stateless\": \"grey\",\n",
        "                \"Tamil Nadu\": \"green\",\n",
        "                \"Telangana\": \"red\",\n",
        "                \"Maharashtra\": \"orange\",\n",
        "                \"Gujarat\": \"magenta\",\n",
        "                \"Delhi\": \"purple\",\n",
        "                \"West Bengal\": \"aqua\",\n",
        "                \"Haryana\": \"pink\",\n",
        "                \"Odisha\": \"blue\",\n",
        "                \"Madhya Pradesh\": \"brown\",\n",
        "                \"Karnataka\": \"black\"})\n",
        "fig.show(renderer = 'colab')"
      ],
      "execution_count": null,
      "outputs": []
    },
    {
      "cell_type": "markdown",
      "source": [
        "This makes the above observations so much easier. Can you list them with respect to this plot?"
      ],
      "metadata": {
        "id": "F94yp-3XawCb"
      }
    },
    {
      "cell_type": "markdown",
      "metadata": {
        "id": "fK7u44_Wp9_k"
      },
      "source": [
        "# t-SNE\n",
        "\n",
        "Now this time you will be expected to write more than just 3 lines of the code to get the t-SNE plot for this data. Make sure you play with the **perplexity** values enough to appreciate the algorithm. I hope you are able to retrieve the 3 observations and make some new ones from the plot.\n",
        "\n",
        "---\n",
        "\n",
        "You are encouraged to also implement **ISOMAP (from Lab-4)** and try to get more insights from the plots."
      ]
    },
    {
      "cell_type": "markdown",
      "metadata": {
        "id": "9Z0ZBB-6qCSY"
      },
      "source": [
        "# Conclusion\n",
        "\n",
        "You might be wondering how these 3 observations help in understanding the demographic spread of the virus in the country.\n",
        "\n",
        "### This is not a Bioinformatics course, so you may choose to ignore the details mentioned below\n",
        "But the idea was to motivate you to understand the importance of visualization techniques even with no domain knowlege.\n",
        "\n",
        "---\n",
        "---\n",
        "\n",
        "On performing genetic analysis on the sequences to understand why exactly these observations could have been happening I found the following:\n",
        "\n",
        "#### Observation 1:\n",
        "Samples from Odisha are different than the rest of the country, hence they were scattered away from the clusters in the plots.\n",
        "\n",
        "#### Reason:\n",
        "Genomic sequences of isolates from Odisha were shorter in length with missing bases (deletions); 1 - 29 bases in 5' UTR (38 isolates), 23842 - 24400 bases in S gene, 26306-26524 bases in E gene, 27527 – 28033 bases in ORF7b and ORF8 (8 samples), 28462 - 28680 bases in the N gene (10 samples), 29000 – 29685 in ORF10 gene (15 samples), and 29686 - 29903 bases in 3' UTR (39 isolates). These deletions were unique to the state and werent observed in samples from the rest of the country.\n",
        "\n",
        "#### Observation 2:\n",
        "A secondary cluster away from the primary cluster with sequences from Telangana, Delhi, and Tamil Nadu.\n",
        "\n",
        "#### Reason:\n",
        "About one-third of the Indian isolates (219/685) are part of a subclade I/A3i defined by the co-occurring mutations C6312A, C13730T, C23929T, and C28311T. The subclade's predominance is observed in Telangana (69/97, 71%), Delhi (52/76, 68%), and Tamil Nadu (16/34). Analysis of this subclade is important both scientifically and epidemiologically as the mutations defining it are found in 32% of the Indian samples sequenced, while outside India its distribution is very low (3.5%). This clearly hints at early community transmission due to some super spreader event during March-April, as it is highly unlikely that around one-third of the samples sharing the same set of mutations could have arisen by multiple independent entries with international travel history, especially when its presence globally is negligibly small.\n",
        "\n",
        "#### Observation 3:\n",
        "A dense cluster of sequences from Gujarat.\n",
        "\n",
        "#### Reason:\n",
        "Isolates from Gujarat are a part of a subclade, I/GJ-20A defined by a shared set of mutations C18877T, G25563T (ORF3a: Q57H), and C26735T. This set of mutations are not well represented in the rest of the country. Mutations present in Gujarat have also been found in samples from Europe and that could have been the possible route of transmission into India. Also, Gujarat has the highest COVID-19 death rate (5.12%) in the country (Avg: 2.67%), and this death rate in Gujarat is comparable to that in Europe. This high fatality could be due to these characteristic mutations increasing the deleteriousness of the virus.\n",
        "\n",
        "---\n",
        "\n",
        "**So I hope you appreciate the valuable insights visualization techniques provide us with.**\n",
        "\n",
        "Best of luck for the next Module!\n",
        "---"
      ]
    }
  ]
}